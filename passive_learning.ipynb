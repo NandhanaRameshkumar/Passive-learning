{
  "cells": [
    {
      "cell_type": "markdown",
      "metadata": {
        "id": "view-in-github",
        "colab_type": "text"
      },
      "source": [
        "<a href=\"https://colab.research.google.com/github/NandhanaRameshkumar/Passive-learning/blob/main/passive_learning.ipynb\" target=\"_parent\"><img src=\"https://colab.research.google.com/assets/colab-badge.svg\" alt=\"Open In Colab\"/></a>"
      ]
    },
    {
      "cell_type": "code",
      "execution_count": null,
      "id": "5d951c11",
      "metadata": {
        "id": "5d951c11",
        "outputId": "e5141ded-ebb5-438b-93fc-722638c987ea"
      },
      "outputs": [
        {
          "name": "stdout",
          "output_type": "stream",
          "text": [
            "Learned Q-values:\n",
            "[[0.  0.1]\n",
            " [0.1 0. ]\n",
            " [0.  0.1]\n",
            " [0.1 0. ]\n",
            " [0.  0. ]]\n"
          ]
        }
      ],
      "source": [
        "import numpy as np\n",
        "\n",
        "class QLearningAgent:\n",
        "    def __init__(self, num_states, num_actions, learning_rate=0.1, discount_factor=0.9):\n",
        "        self.num_states = num_states\n",
        "        self.num_actions = num_actions\n",
        "        self.learning_rate = learning_rate\n",
        "        self.discount_factor = discount_factor\n",
        "        self.q_table = np.zeros((num_states, num_actions))\n",
        "\n",
        "    def update_q_table(self, state, action, reward, next_state):\n",
        "        best_next_action = np.argmax(self.q_table[next_state])\n",
        "        td_target = reward + self.discount_factor * self.q_table[next_state, best_next_action]\n",
        "        td_error = td_target - self.q_table[state, action]\n",
        "        self.q_table[state, action] += self.learning_rate * td_error\n",
        "\n",
        "# Assuming we have a dataset of experiences (state, action, reward, next_state)\n",
        "dataset = [(0, 1, 1, 1), (1, 0, 1, 2), (2, 1, 1, 3), (3, 0, 1, 4)]\n",
        "\n",
        "# Example usage:\n",
        "if __name__ == \"__main__\":\n",
        "    # Create Q-learning agent\n",
        "    agent = QLearningAgent(num_states=5, num_actions=2)\n",
        "\n",
        "    # Passive learning\n",
        "    for state, action, reward, next_state in dataset:\n",
        "        agent.update_q_table(state, action, reward, next_state)\n",
        "\n",
        "    # Print learned Q-values\n",
        "    print(\"Learned Q-values:\")\n",
        "    print(agent.q_table)\n"
      ]
    }
  ],
  "metadata": {
    "kernelspec": {
      "display_name": "Python 3 (ipykernel)",
      "language": "python",
      "name": "python3"
    },
    "language_info": {
      "codemirror_mode": {
        "name": "ipython",
        "version": 3
      },
      "file_extension": ".py",
      "mimetype": "text/x-python",
      "name": "python",
      "nbconvert_exporter": "python",
      "pygments_lexer": "ipython3",
      "version": "3.9.12"
    },
    "colab": {
      "provenance": [],
      "include_colab_link": true
    }
  },
  "nbformat": 4,
  "nbformat_minor": 5
}